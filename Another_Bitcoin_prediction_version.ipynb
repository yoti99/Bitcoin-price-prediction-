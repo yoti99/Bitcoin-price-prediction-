{
  "nbformat": 4,
  "nbformat_minor": 0,
  "metadata": {
    "colab": {
      "name": "Another Bitcoin prediction version.ipynb",
      "provenance": []
    },
    "kernelspec": {
      "name": "python3",
      "display_name": "Python 3"
    },
    "language_info": {
      "name": "python"
    }
  },
  "cells": [
    {
      "cell_type": "code",
      "execution_count": 2,
      "metadata": {
        "id": "FcemlkxblS63"
      },
      "outputs": [],
      "source": [
        "import numpy as np\n",
        "import pandas as pd\n",
        "import seaborn as sb"
      ]
    },
    {
      "cell_type": "code",
      "source": [
        "from google.colab import drive #To import goog;e drive data"
      ],
      "metadata": {
        "id": "mluui1Bampgu"
      },
      "execution_count": 3,
      "outputs": []
    },
    {
      "cell_type": "code",
      "source": [
        "drive.mount('/content/drive') #To mount the drive data into colab cloud and enter the activation code"
      ],
      "metadata": {
        "colab": {
          "base_uri": "https://localhost:8080/"
        },
        "id": "sLdASjS0m8UT",
        "outputId": "ddc94242-2184-421a-d025-a9e70292f245"
      },
      "execution_count": 4,
      "outputs": [
        {
          "output_type": "stream",
          "name": "stdout",
          "text": [
            "Mounted at /content/drive\n"
          ]
        }
      ]
    },
    {
      "cell_type": "code",
      "source": [
        "cd /content/drive/\"My Drive/Colab Notebooks\""
      ],
      "metadata": {
        "id": "n9aZ0Vv0nRIs",
        "colab": {
          "base_uri": "https://localhost:8080/"
        },
        "outputId": "02192a60-08de-4389-a089-1317e1264fa7"
      },
      "execution_count": 5,
      "outputs": [
        {
          "output_type": "stream",
          "name": "stdout",
          "text": [
            "/content/drive/My Drive/Colab Notebooks\n"
          ]
        }
      ]
    },
    {
      "cell_type": "code",
      "source": [
        ""
      ],
      "metadata": {
        "id": "9AXTvW5_XEeV"
      },
      "execution_count": 5,
      "outputs": []
    },
    {
      "cell_type": "markdown",
      "source": [
        "Read the datset into a dataframe"
      ],
      "metadata": {
        "id": "aHtbyylsphNj"
      }
    },
    {
      "cell_type": "code",
      "source": [
        "df = pd.read_csv('bitcoin_data.csv', engine='python')"
      ],
      "metadata": {
        "id": "wWF-_zGToCSe"
      },
      "execution_count": 6,
      "outputs": []
    },
    {
      "cell_type": "code",
      "source": [
        "df.head()"
      ],
      "metadata": {
        "colab": {
          "base_uri": "https://localhost:8080/",
          "height": 206
        },
        "id": "Bg2TvDX-pRu3",
        "outputId": "18da822b-f0e4-4a2f-c980-07f912d3880e"
      },
      "execution_count": 7,
      "outputs": [
        {
          "output_type": "execute_result",
          "data": {
            "text/plain": [
              "          Timestamp     Open     High      Low    Close  Volume (BTC)  \\\n",
              "0  01-01-2017 00:00   966.34  1005.00   960.53   997.75       6850.59   \n",
              "1  01-02-2017 00:00   997.75  1032.00   990.01  1012.54       8167.38   \n",
              "2  01-03-2017 00:00  1011.44  1039.00   999.99  1035.24       9089.66   \n",
              "3  01-04-2017 00:00  1035.51  1139.89  1028.56  1114.92      21562.46   \n",
              "4  01-05-2017 00:00  1114.38  1136.72   885.41  1004.74      36018.86   \n",
              "\n",
              "   Volume (Currency)  Weighted Price  \n",
              "0         6764742.06          987.47  \n",
              "1         8273576.99         1013.00  \n",
              "2         9276500.31         1020.56  \n",
              "3        23469644.96         1088.45  \n",
              "4        36211399.53         1005.35  "
            ],
            "text/html": [
              "\n",
              "  <div id=\"df-625ee938-32a4-40ea-a0e9-1b0209a3e5e4\">\n",
              "    <div class=\"colab-df-container\">\n",
              "      <div>\n",
              "<style scoped>\n",
              "    .dataframe tbody tr th:only-of-type {\n",
              "        vertical-align: middle;\n",
              "    }\n",
              "\n",
              "    .dataframe tbody tr th {\n",
              "        vertical-align: top;\n",
              "    }\n",
              "\n",
              "    .dataframe thead th {\n",
              "        text-align: right;\n",
              "    }\n",
              "</style>\n",
              "<table border=\"1\" class=\"dataframe\">\n",
              "  <thead>\n",
              "    <tr style=\"text-align: right;\">\n",
              "      <th></th>\n",
              "      <th>Timestamp</th>\n",
              "      <th>Open</th>\n",
              "      <th>High</th>\n",
              "      <th>Low</th>\n",
              "      <th>Close</th>\n",
              "      <th>Volume (BTC)</th>\n",
              "      <th>Volume (Currency)</th>\n",
              "      <th>Weighted Price</th>\n",
              "    </tr>\n",
              "  </thead>\n",
              "  <tbody>\n",
              "    <tr>\n",
              "      <th>0</th>\n",
              "      <td>01-01-2017 00:00</td>\n",
              "      <td>966.34</td>\n",
              "      <td>1005.00</td>\n",
              "      <td>960.53</td>\n",
              "      <td>997.75</td>\n",
              "      <td>6850.59</td>\n",
              "      <td>6764742.06</td>\n",
              "      <td>987.47</td>\n",
              "    </tr>\n",
              "    <tr>\n",
              "      <th>1</th>\n",
              "      <td>01-02-2017 00:00</td>\n",
              "      <td>997.75</td>\n",
              "      <td>1032.00</td>\n",
              "      <td>990.01</td>\n",
              "      <td>1012.54</td>\n",
              "      <td>8167.38</td>\n",
              "      <td>8273576.99</td>\n",
              "      <td>1013.00</td>\n",
              "    </tr>\n",
              "    <tr>\n",
              "      <th>2</th>\n",
              "      <td>01-03-2017 00:00</td>\n",
              "      <td>1011.44</td>\n",
              "      <td>1039.00</td>\n",
              "      <td>999.99</td>\n",
              "      <td>1035.24</td>\n",
              "      <td>9089.66</td>\n",
              "      <td>9276500.31</td>\n",
              "      <td>1020.56</td>\n",
              "    </tr>\n",
              "    <tr>\n",
              "      <th>3</th>\n",
              "      <td>01-04-2017 00:00</td>\n",
              "      <td>1035.51</td>\n",
              "      <td>1139.89</td>\n",
              "      <td>1028.56</td>\n",
              "      <td>1114.92</td>\n",
              "      <td>21562.46</td>\n",
              "      <td>23469644.96</td>\n",
              "      <td>1088.45</td>\n",
              "    </tr>\n",
              "    <tr>\n",
              "      <th>4</th>\n",
              "      <td>01-05-2017 00:00</td>\n",
              "      <td>1114.38</td>\n",
              "      <td>1136.72</td>\n",
              "      <td>885.41</td>\n",
              "      <td>1004.74</td>\n",
              "      <td>36018.86</td>\n",
              "      <td>36211399.53</td>\n",
              "      <td>1005.35</td>\n",
              "    </tr>\n",
              "  </tbody>\n",
              "</table>\n",
              "</div>\n",
              "      <button class=\"colab-df-convert\" onclick=\"convertToInteractive('df-625ee938-32a4-40ea-a0e9-1b0209a3e5e4')\"\n",
              "              title=\"Convert this dataframe to an interactive table.\"\n",
              "              style=\"display:none;\">\n",
              "        \n",
              "  <svg xmlns=\"http://www.w3.org/2000/svg\" height=\"24px\"viewBox=\"0 0 24 24\"\n",
              "       width=\"24px\">\n",
              "    <path d=\"M0 0h24v24H0V0z\" fill=\"none\"/>\n",
              "    <path d=\"M18.56 5.44l.94 2.06.94-2.06 2.06-.94-2.06-.94-.94-2.06-.94 2.06-2.06.94zm-11 1L8.5 8.5l.94-2.06 2.06-.94-2.06-.94L8.5 2.5l-.94 2.06-2.06.94zm10 10l.94 2.06.94-2.06 2.06-.94-2.06-.94-.94-2.06-.94 2.06-2.06.94z\"/><path d=\"M17.41 7.96l-1.37-1.37c-.4-.4-.92-.59-1.43-.59-.52 0-1.04.2-1.43.59L10.3 9.45l-7.72 7.72c-.78.78-.78 2.05 0 2.83L4 21.41c.39.39.9.59 1.41.59.51 0 1.02-.2 1.41-.59l7.78-7.78 2.81-2.81c.8-.78.8-2.07 0-2.86zM5.41 20L4 18.59l7.72-7.72 1.47 1.35L5.41 20z\"/>\n",
              "  </svg>\n",
              "      </button>\n",
              "      \n",
              "  <style>\n",
              "    .colab-df-container {\n",
              "      display:flex;\n",
              "      flex-wrap:wrap;\n",
              "      gap: 12px;\n",
              "    }\n",
              "\n",
              "    .colab-df-convert {\n",
              "      background-color: #E8F0FE;\n",
              "      border: none;\n",
              "      border-radius: 50%;\n",
              "      cursor: pointer;\n",
              "      display: none;\n",
              "      fill: #1967D2;\n",
              "      height: 32px;\n",
              "      padding: 0 0 0 0;\n",
              "      width: 32px;\n",
              "    }\n",
              "\n",
              "    .colab-df-convert:hover {\n",
              "      background-color: #E2EBFA;\n",
              "      box-shadow: 0px 1px 2px rgba(60, 64, 67, 0.3), 0px 1px 3px 1px rgba(60, 64, 67, 0.15);\n",
              "      fill: #174EA6;\n",
              "    }\n",
              "\n",
              "    [theme=dark] .colab-df-convert {\n",
              "      background-color: #3B4455;\n",
              "      fill: #D2E3FC;\n",
              "    }\n",
              "\n",
              "    [theme=dark] .colab-df-convert:hover {\n",
              "      background-color: #434B5C;\n",
              "      box-shadow: 0px 1px 3px 1px rgba(0, 0, 0, 0.15);\n",
              "      filter: drop-shadow(0px 1px 2px rgba(0, 0, 0, 0.3));\n",
              "      fill: #FFFFFF;\n",
              "    }\n",
              "  </style>\n",
              "\n",
              "      <script>\n",
              "        const buttonEl =\n",
              "          document.querySelector('#df-625ee938-32a4-40ea-a0e9-1b0209a3e5e4 button.colab-df-convert');\n",
              "        buttonEl.style.display =\n",
              "          google.colab.kernel.accessAllowed ? 'block' : 'none';\n",
              "\n",
              "        async function convertToInteractive(key) {\n",
              "          const element = document.querySelector('#df-625ee938-32a4-40ea-a0e9-1b0209a3e5e4');\n",
              "          const dataTable =\n",
              "            await google.colab.kernel.invokeFunction('convertToInteractive',\n",
              "                                                     [key], {});\n",
              "          if (!dataTable) return;\n",
              "\n",
              "          const docLinkHtml = 'Like what you see? Visit the ' +\n",
              "            '<a target=\"_blank\" href=https://colab.research.google.com/notebooks/data_table.ipynb>data table notebook</a>'\n",
              "            + ' to learn more about interactive tables.';\n",
              "          element.innerHTML = '';\n",
              "          dataTable['output_type'] = 'display_data';\n",
              "          await google.colab.output.renderOutput(dataTable, element);\n",
              "          const docLink = document.createElement('div');\n",
              "          docLink.innerHTML = docLinkHtml;\n",
              "          element.appendChild(docLink);\n",
              "        }\n",
              "      </script>\n",
              "    </div>\n",
              "  </div>\n",
              "  "
            ]
          },
          "metadata": {},
          "execution_count": 7
        }
      ]
    },
    {
      "cell_type": "code",
      "source": [
        "df.shape\n",
        "print(df)"
      ],
      "metadata": {
        "colab": {
          "base_uri": "https://localhost:8080/"
        },
        "id": "-n47of1ppViG",
        "outputId": "aec9ecc2-40ef-4e4d-b2ae-28640be2eeb1"
      },
      "execution_count": 8,
      "outputs": [
        {
          "output_type": "stream",
          "name": "stdout",
          "text": [
            "            Timestamp     Open     High      Low    Close  Volume (BTC)  \\\n",
            "0    01-01-2017 00:00   966.34  1005.00   960.53   997.75       6850.59   \n",
            "1    01-02-2017 00:00   997.75  1032.00   990.01  1012.54       8167.38   \n",
            "2    01-03-2017 00:00  1011.44  1039.00   999.99  1035.24       9089.66   \n",
            "3    01-04-2017 00:00  1035.51  1139.89  1028.56  1114.92      21562.46   \n",
            "4    01-05-2017 00:00  1114.38  1136.72   885.41  1004.74      36018.86   \n",
            "..                ...      ...      ...      ...      ...           ...   \n",
            "447      3/24/18 0:00  8917.99  9020.00  8505.00  8547.00       9731.98   \n",
            "448      3/25/18 0:00  8541.96  8680.00  8368.63  8453.90       9155.91   \n",
            "449      3/26/18 0:00  8451.12  8500.00  7831.15  8149.66      17693.42   \n",
            "450      3/27/18 0:00  8152.26  8211.62  7742.11  7791.70      12385.25   \n",
            "451      3/28/18 0:00  7791.69  8104.98  7723.03  8039.86       4732.51   \n",
            "\n",
            "     Volume (Currency)  Weighted Price  \n",
            "0         6.764742e+06          987.47  \n",
            "1         8.273577e+06         1013.00  \n",
            "2         9.276500e+06         1020.56  \n",
            "3         2.346964e+07         1088.45  \n",
            "4         3.621140e+07         1005.35  \n",
            "..                 ...             ...  \n",
            "447       8.581162e+07         8817.49  \n",
            "448       7.801322e+07         8520.53  \n",
            "449       1.452465e+08         8209.07  \n",
            "450       9.848842e+07         7952.07  \n",
            "451       3.749762e+07         7923.40  \n",
            "\n",
            "[452 rows x 8 columns]\n"
          ]
        }
      ]
    },
    {
      "cell_type": "markdown",
      "source": [
        "Check if there are null values"
      ],
      "metadata": {
        "id": "dJ5o-lnBq0eS"
      }
    },
    {
      "cell_type": "code",
      "source": [
        "sb.heatmap(df.isnull())"
      ],
      "metadata": {
        "colab": {
          "base_uri": "https://localhost:8080/",
          "height": 371
        },
        "id": "THmbwvB0qb4m",
        "outputId": "34f08216-02d7-461a-ff58-def0cd2d4a62"
      },
      "execution_count": 9,
      "outputs": [
        {
          "output_type": "execute_result",
          "data": {
            "text/plain": [
              "<matplotlib.axes._subplots.AxesSubplot at 0x7f5ad909a6d0>"
            ]
          },
          "metadata": {},
          "execution_count": 9
        },
        {
          "output_type": "display_data",
          "data": {
            "text/plain": [
              "<Figure size 432x288 with 2 Axes>"
            ],
            "image/png": "[encoded data removed]"
          },
          "metadata": {
            "needs_background": "light"
          }
        }
      ]
    },
    {
      "cell_type": "code",
      "source": [
        "df.info"
      ],
      "metadata": {
        "colab": {
          "base_uri": "https://localhost:8080/"
        },
        "id": "A-GyclaHrHG0",
        "outputId": "5d8def43-2288-4996-f888-318add470def"
      },
      "execution_count": 10,
      "outputs": [
        {
          "output_type": "execute_result",
          "data": {
            "text/plain": [
              "<bound method DataFrame.info of             Timestamp     Open     High      Low    Close  Volume (BTC)  \\\n",
              "0    01-01-2017 00:00   966.34  1005.00   960.53   997.75       6850.59   \n",
              "1    01-02-2017 00:00   997.75  1032.00   990.01  1012.54       8167.38   \n",
              "2    01-03-2017 00:00  1011.44  1039.00   999.99  1035.24       9089.66   \n",
              "3    01-04-2017 00:00  1035.51  1139.89  1028.56  1114.92      21562.46   \n",
              "4    01-05-2017 00:00  1114.38  1136.72   885.41  1004.74      36018.86   \n",
              "..                ...      ...      ...      ...      ...           ...   \n",
              "447      3/24/18 0:00  8917.99  9020.00  8505.00  8547.00       9731.98   \n",
              "448      3/25/18 0:00  8541.96  8680.00  8368.63  8453.90       9155.91   \n",
              "449      3/26/18 0:00  8451.12  8500.00  7831.15  8149.66      17693.42   \n",
              "450      3/27/18 0:00  8152.26  8211.62  7742.11  7791.70      12385.25   \n",
              "451      3/28/18 0:00  7791.69  8104.98  7723.03  8039.86       4732.51   \n",
              "\n",
              "     Volume (Currency)  Weighted Price  \n",
              "0         6.764742e+06          987.47  \n",
              "1         8.273577e+06         1013.00  \n",
              "2         9.276500e+06         1020.56  \n",
              "3         2.346964e+07         1088.45  \n",
              "4         3.621140e+07         1005.35  \n",
              "..                 ...             ...  \n",
              "447       8.581162e+07         8817.49  \n",
              "448       7.801322e+07         8520.53  \n",
              "449       1.452465e+08         8209.07  \n",
              "450       9.848842e+07         7952.07  \n",
              "451       3.749762e+07         7923.40  \n",
              "\n",
              "[452 rows x 8 columns]>"
            ]
          },
          "metadata": {},
          "execution_count": 10
        }
      ]
    },
    {
      "cell_type": "code",
      "source": [
        "df=pd.read_csv(\"bitcoin_data.csv\")\n",
        "print(df)\n",
        "df.shape"
      ],
      "metadata": {
        "colab": {
          "base_uri": "https://localhost:8080/"
        },
        "id": "ubUVQJc6rRK3",
        "outputId": "bd149123-9c89-4776-8758-835e22c8dcda"
      },
      "execution_count": 11,
      "outputs": [
        {
          "output_type": "stream",
          "name": "stdout",
          "text": [
            "            Timestamp     Open     High      Low    Close  Volume (BTC)  \\\n",
            "0    01-01-2017 00:00   966.34  1005.00   960.53   997.75       6850.59   \n",
            "1    01-02-2017 00:00   997.75  1032.00   990.01  1012.54       8167.38   \n",
            "2    01-03-2017 00:00  1011.44  1039.00   999.99  1035.24       9089.66   \n",
            "3    01-04-2017 00:00  1035.51  1139.89  1028.56  1114.92      21562.46   \n",
            "4    01-05-2017 00:00  1114.38  1136.72   885.41  1004.74      36018.86   \n",
            "..                ...      ...      ...      ...      ...           ...   \n",
            "447      3/24/18 0:00  8917.99  9020.00  8505.00  8547.00       9731.98   \n",
            "448      3/25/18 0:00  8541.96  8680.00  8368.63  8453.90       9155.91   \n",
            "449      3/26/18 0:00  8451.12  8500.00  7831.15  8149.66      17693.42   \n",
            "450      3/27/18 0:00  8152.26  8211.62  7742.11  7791.70      12385.25   \n",
            "451      3/28/18 0:00  7791.69  8104.98  7723.03  8039.86       4732.51   \n",
            "\n",
            "     Volume (Currency)  Weighted Price  \n",
            "0         6.764742e+06          987.47  \n",
            "1         8.273577e+06         1013.00  \n",
            "2         9.276500e+06         1020.56  \n",
            "3         2.346964e+07         1088.45  \n",
            "4         3.621140e+07         1005.35  \n",
            "..                 ...             ...  \n",
            "447       8.581162e+07         8817.49  \n",
            "448       7.801322e+07         8520.53  \n",
            "449       1.452465e+08         8209.07  \n",
            "450       9.848842e+07         7952.07  \n",
            "451       3.749762e+07         7923.40  \n",
            "\n",
            "[452 rows x 8 columns]\n"
          ]
        },
        {
          "output_type": "execute_result",
          "data": {
            "text/plain": [
              "(452, 8)"
            ]
          },
          "metadata": {},
          "execution_count": 11
        }
      ]
    },
    {
      "cell_type": "code",
      "source": [
        "#Drop the redundant columns \n",
        "#cols_to_drop = ['timestamp']\n",
        "df = df.drop(['Timestamp'], axis=1)\n",
        "\n"
      ],
      "metadata": {
        "id": "IxUy9ZOTri_K"
      },
      "execution_count": 12,
      "outputs": []
    },
    {
      "cell_type": "code",
      "source": [
        "dt = df.drop(['Weighted Price'], axis=1)\n",
        "\n",
        "print(df)"
      ],
      "metadata": {
        "colab": {
          "base_uri": "https://localhost:8080/"
        },
        "id": "ZtkgTsygW0QL",
        "outputId": "6e155d48-6626-484a-8729-f5f86587f4d3"
      },
      "execution_count": 13,
      "outputs": [
        {
          "output_type": "stream",
          "name": "stdout",
          "text": [
            "        Open     High      Low    Close  Volume (BTC)  Volume (Currency)  \\\n",
            "0     966.34  1005.00   960.53   997.75       6850.59       6.764742e+06   \n",
            "1     997.75  1032.00   990.01  1012.54       8167.38       8.273577e+06   \n",
            "2    1011.44  1039.00   999.99  1035.24       9089.66       9.276500e+06   \n",
            "3    1035.51  1139.89  1028.56  1114.92      21562.46       2.346964e+07   \n",
            "4    1114.38  1136.72   885.41  1004.74      36018.86       3.621140e+07   \n",
            "..       ...      ...      ...      ...           ...                ...   \n",
            "447  8917.99  9020.00  8505.00  8547.00       9731.98       8.581162e+07   \n",
            "448  8541.96  8680.00  8368.63  8453.90       9155.91       7.801322e+07   \n",
            "449  8451.12  8500.00  7831.15  8149.66      17693.42       1.452465e+08   \n",
            "450  8152.26  8211.62  7742.11  7791.70      12385.25       9.848842e+07   \n",
            "451  7791.69  8104.98  7723.03  8039.86       4732.51       3.749762e+07   \n",
            "\n",
            "     Weighted Price  \n",
            "0            987.47  \n",
            "1           1013.00  \n",
            "2           1020.56  \n",
            "3           1088.45  \n",
            "4           1005.35  \n",
            "..              ...  \n",
            "447         8817.49  \n",
            "448         8520.53  \n",
            "449         8209.07  \n",
            "450         7952.07  \n",
            "451         7923.40  \n",
            "\n",
            "[452 rows x 7 columns]\n"
          ]
        }
      ]
    },
    {
      "cell_type": "code",
      "source": [
        "#Seperate the data frame into x and y data\n",
        "x = df.values\n",
        "y = df['Weighted Price'].values"
      ],
      "metadata": {
        "id": "Kt8arjO1roju"
      },
      "execution_count": 14,
      "outputs": []
    },
    {
      "cell_type": "code",
      "source": [
        "print(x)"
      ],
      "metadata": {
        "colab": {
          "base_uri": "https://localhost:8080/"
        },
        "id": "i9kYIQ4PAn54",
        "outputId": "3e994f70-b712-4235-abd1-e058df5fe20f"
      },
      "execution_count": 15,
      "outputs": [
        {
          "output_type": "stream",
          "name": "stdout",
          "text": [
            "[[9.66340000e+02 1.00500000e+03 9.60530000e+02 ... 6.85059000e+03\n",
            "  6.76474206e+06 9.87470000e+02]\n",
            " [9.97750000e+02 1.03200000e+03 9.90010000e+02 ... 8.16738000e+03\n",
            "  8.27357699e+06 1.01300000e+03]\n",
            " [1.01144000e+03 1.03900000e+03 9.99990000e+02 ... 9.08966000e+03\n",
            "  9.27650031e+06 1.02056000e+03]\n",
            " ...\n",
            " [8.45112000e+03 8.50000000e+03 7.83115000e+03 ... 1.76934200e+04\n",
            "  1.45246518e+08 8.20907000e+03]\n",
            " [8.15226000e+03 8.21162000e+03 7.74211000e+03 ... 1.23852500e+04\n",
            "  9.84884152e+07 7.95207000e+03]\n",
            " [7.79169000e+03 8.10498000e+03 7.72303000e+03 ... 4.73251000e+03\n",
            "  3.74976170e+07 7.92340000e+03]]\n"
          ]
        }
      ]
    },
    {
      "cell_type": "markdown",
      "source": [
        ""
      ],
      "metadata": {
        "id": "XCfS8giA2IZi"
      }
    },
    {
      "cell_type": "markdown",
      "source": [
        "Split the data"
      ],
      "metadata": {
        "id": "-wPKmPYCr498"
      }
    },
    {
      "cell_type": "code",
      "source": [
        "#Split the dataset into 70% Training and 30% Test\n",
        "from sklearn.model_selection import train_test_split\n",
        "x_train, x_test, y_train, y_test = train_test_split(x,y,test_size=0.3,random_state=0)"
      ],
      "metadata": {
        "id": "r8OGkCjQr3nL"
      },
      "execution_count": 16,
      "outputs": []
    },
    {
      "cell_type": "code",
      "source": [
        "print(x_train)\n",
        "print(y_train)"
      ],
      "metadata": {
        "colab": {
          "base_uri": "https://localhost:8080/"
        },
        "id": "MKkV_Xn95eEq",
        "outputId": "89e2eecf-bf56-410c-de22-a5ede6cdd0d6"
      },
      "execution_count": 17,
      "outputs": [
        {
          "output_type": "stream",
          "name": "stdout",
          "text": [
            "[[4.30109000e+03 4.42500000e+03 4.27840000e+03 ... 8.37730000e+03\n",
            "  3.65526581e+07 4.36330000e+03]\n",
            " [2.32612000e+03 2.39900000e+03 2.24262000e+03 ... 1.75809600e+04\n",
            "  4.11458839e+07 2.34037000e+03]\n",
            " [4.32991000e+03 4.39972000e+03 4.16901000e+03 ... 8.64100000e+03\n",
            "  3.70772034e+07 4.29085000e+03]\n",
            " ...\n",
            " [1.33100000e+03 1.34702000e+03 1.29900000e+03 ... 8.23428000e+03\n",
            "  1.08825264e+07 1.32161000e+03]\n",
            " [1.03291000e+03 1.06499000e+03 1.03198000e+03 ... 6.08502000e+03\n",
            "  6.38628516e+06 1.04951000e+03]\n",
            " [2.65867000e+03 2.74000000e+03 2.59461000e+03 ... 1.07927900e+04\n",
            "  2.89558459e+07 2.68289000e+03]]\n",
            "[ 4363.3   2340.37  4290.85  9831.31  3953.45  5736.04  1179.8  10708.96\n",
            "  1258.92  7229.1  10687.97  8409.31  3742.81  1054.11  4789.38  1141.62\n",
            " 10980.3  13875.59  4233.86  1127.36   895.    2346.41  2264.38  4210.15\n",
            "  2489.12  8662.8   4502.76  1187.03 16293.32 11499.77  2020.04  1215.72\n",
            " 16724.84  4338.63 16397.33   879.11  2064.12  2594.03  7689.81   949.19\n",
            "  1266.96 11540.35  1166.19  9527.86  4679.26  2448.42  2288.64  1320.85\n",
            "  2549.14 13593.74  1385.7   5797.46  1236.21  3616.21  3897.81  1775.47\n",
            "  2408.07  6044.87  4180.17  1540.16  8477.23 14840.19  7863.96  1782.44\n",
            "  1009.32 10961.27  2720.77  1022.99  1006.66  1185.04  1007.68  1274.36\n",
            "  2563.93  2307.39  2714.62  9338.34  4299.82  8658.32 11826.96  5990.19\n",
            "  1198.69 16434.93  3339.32  1029.04 13373.48  6124.2  16854.87  1251.96\n",
            "  1826.61  8860.15  1015.96 11800.13   917.94  2447.76  9027.86  7169.77\n",
            "  1104.6  14703.62  6870.    3236.12  8375.31   917.53  1020.56  4007.74\n",
            "  8588.47  2818.78  6284.18 11279.98  4189.5   6811.55  1927.05  2740.33\n",
            "  1179.34  7064.13  9127.44  7562.03  2835.33 18430.69  2534.48  4232.45\n",
            "  2754.79  2755.74  4146.85  3624.21  1178.33   893.11  3169.04  3789.13\n",
            "  1748.5   1228.52  2451.15 14233.65 13525.02   977.66  8196.45  1084.72\n",
            "  5149.57 16033.61   826.98 15103.89  8518.99  4338.69  2911.89   923.17\n",
            "  8209.07 11332.93  1241.65  2263.3   2428.74   878.62  6395.47  1222.57\n",
            "  7797.3   1969.83  4303.25  3951.07  8147.26 13148.96  4527.25 19110.24\n",
            "   893.82  5643.65  4063.17  4101.45 17335.    1088.45  6586.15  1541.43\n",
            "  4511.21  5680.62  1010.79  2598.38 14402.98 10112.37  4295.1   5877.68\n",
            " 10395.94  2445.67  8662.42  1037.17  7253.2   3666.34   783.46 12664.26\n",
            "  1046.4   3688.85  1021.23  9168.21  1192.35  1008.19  4187.55  1065.03\n",
            "  2704.43 15460.55  8974.03 12486.57  1540.55  3511.92  1259.81 14233.61\n",
            "  1831.54  2531.18   903.34   994.47   987.47  2724.18 10899.45  1196.69\n",
            "  6546.62  8317.01  2534.19  3535.91  1127.15  9862.46  1170.38  7352.34\n",
            "  2555.36  1160.95  6976.49  1060.53 15285.2   2576.5   4373.29  4193.43\n",
            "  2257.02  2383.53 10287.37  2518.28 14785.39  1749.79  8145.4   7952.07\n",
            "  3931.92  8096.38  2755.03   970.09  1438.93 11284.76 10789.44  1083.09\n",
            "   976.65  3847.35  1334.38 13951.9   5654.06  1187.58  7679.33  3370.47\n",
            " 13652.81 10576.64  1002.34  1161.7  10021.35  4281.    7986.14  1045.63\n",
            " 11301.56  1153.56  9944.16  1710.02  5361.2    915.29  2535.76 16670.8\n",
            "  2716.76  2390.57  4682.16  2792.99   970.4    994.32  1591.3   2568.3\n",
            " 10624.38  5681.03  8928.31 10703.13  2188.92  5600.53  9546.58  2392.87\n",
            "  1207.78 11652.18 10927.84  2081.68  4808.17  1293.83  8254.92  3715.13\n",
            "  1245.58  9715.31   907.69  2311.58 11314.7   9153.    2619.    8082.12\n",
            "   996.61  2367.53  6478.1   9222.28  1031.69  1208.74  1031.58  5891.45\n",
            "  4682.33  4265.13  2769.15   902.61 15342.51  2058.01  4279.9   8113.74\n",
            "  2348.44  1321.61  1049.51  2682.89]\n"
          ]
        }
      ]
    },
    {
      "cell_type": "markdown",
      "source": [
        "Fix continuous variable problem"
      ],
      "metadata": {
        "id": "ve4wMysx0yEr"
      }
    },
    {
      "cell_type": "code",
      "source": [
        "\n",
        "#from sklearn import preprocessing\n",
        "#from sklearn import utils\n",
        "    #convert y values to categorical values\n",
        "#lab = preprocessing.LabelEncoder()\n",
        "#y_train1 = lab.fit_transform(y_train)\n",
        "#y_test1 = lab.fit_transform(y_test)\n",
        "#print(y_train1)\n",
        "#print(y_test1)"
      ],
      "metadata": {
        "id": "YRQPWtaWsAfD"
      },
      "execution_count": 18,
      "outputs": []
    },
    {
      "cell_type": "markdown",
      "source": [
        "Build Multi linerRegression Model"
      ],
      "metadata": {
        "id": "xTs1d4OE1JP5"
      }
    },
    {
      "cell_type": "code",
      "source": [
        "from numpy import math\n",
        "\n",
        "from sklearn.preprocessing import MinMaxScaler\n",
        "from sklearn.model_selection import train_test_split\n",
        "\n",
        "from sklearn.metrics import r2_score\n",
        "from sklearn.metrics import mean_squared_error\n",
        "\n",
        "import matplotlib.pyplot as plt\n",
        "from sklearn import linear_model\n",
        "reg = linear_model.LinearRegression()\n",
        "reg.fit(x_train, y_train)\n",
        "\n",
        "reg.score(x_test, y_test)"
      ],
      "metadata": {
        "id": "KCD0Y8pRxvIM",
        "colab": {
          "base_uri": "https://localhost:8080/"
        },
        "outputId": "e0cec40a-6f89-4ea0-8b4c-d4369c442944"
      },
      "execution_count": 19,
      "outputs": [
        {
          "output_type": "execute_result",
          "data": {
            "text/plain": [
              "1.0"
            ]
          },
          "metadata": {},
          "execution_count": 19
        }
      ]
    },
    {
      "cell_type": "code",
      "source": [
        ""
      ],
      "metadata": {
        "id": "fbGTLWLaMy-e"
      },
      "execution_count": 19,
      "outputs": []
    },
    {
      "cell_type": "code",
      "source": [
        "y_pred = reg.predict(x_test)"
      ],
      "metadata": {
        "id": "Tm-5uIe8zFmH"
      },
      "execution_count": 20,
      "outputs": []
    },
    {
      "cell_type": "code",
      "source": [
        ""
      ],
      "metadata": {
        "id": "a_iUdwMg9ZHj"
      },
      "execution_count": 20,
      "outputs": []
    },
    {
      "cell_type": "markdown",
      "source": [
        "Build Random Forest Regressor"
      ],
      "metadata": {
        "id": "wltlTAfvQb85"
      }
    },
    {
      "cell_type": "code",
      "source": [
        "from sklearn.ensemble import RandomForestRegressor\n",
        "rf = RandomForestRegressor(random_state=42)"
      ],
      "metadata": {
        "id": "wvnWs7mC9gQ0"
      },
      "execution_count": 21,
      "outputs": []
    },
    {
      "cell_type": "code",
      "source": [
        "rfModel = rf.fit(x_train, y_train)\n",
        "rfModel.score(x_test, y_test)"
      ],
      "metadata": {
        "id": "esiZoxSo5Ebf",
        "colab": {
          "base_uri": "https://localhost:8080/"
        },
        "outputId": "13d07af8-394d-4ff3-8d5b-9d3f7104810a"
      },
      "execution_count": 22,
      "outputs": [
        {
          "output_type": "execute_result",
          "data": {
            "text/plain": [
              "0.9997568875608893"
            ]
          },
          "metadata": {},
          "execution_count": 22
        }
      ]
    },
    {
      "cell_type": "code",
      "source": [
        "y_pred = rfModel.predict(x_test)"
      ],
      "metadata": {
        "id": "8QCOoU5J5E4K"
      },
      "execution_count": 23,
      "outputs": []
    },
    {
      "cell_type": "code",
      "source": [
        ""
      ],
      "metadata": {
        "id": "9WAa5mZJ84Qi"
      },
      "execution_count": 23,
      "outputs": []
    },
    {
      "cell_type": "markdown",
      "source": [
        "Build Generalised Linear Models "
      ],
      "metadata": {
        "id": "nPyCjIGG9OS-"
      }
    },
    {
      "cell_type": "code",
      "source": [
        "#from pandas.core.frame import DataFrame\n",
        "#from pandas.core.common import random_state\n",
        "\n",
        "#Gaussian Process Regressor\n",
        "#from sklearn.datasets import make_friedman2\n",
        "#from sklearn.gaussian_process import GaussianProcessRegressor\n",
        "#from sklearn.gaussian_process.kernels import DotProduct, WhiteKernel\n",
        "\n",
        "#df=np.array(df)\n",
        "#print(type(make_friedman2))\n",
        "\n",
        "#x,y = make_friedman2(n_sample=500,noise=0,ramdom_state=0)\n",
        "#kernel = DotProduct() + WhiteKernel()\n",
        "#gpr = GaussianProcessRegressor(kernel=kernel,random_state=0).fit(x_train,y_train)\n",
        "#gpr = score(x_test,y_test)\n"
      ],
      "metadata": {
        "id": "5aa9vVco9GbE"
      },
      "execution_count": 24,
      "outputs": []
    },
    {
      "cell_type": "markdown",
      "source": [
        "Build Simple Vector Module (SVM)"
      ],
      "metadata": {
        "id": "nq-KUoya21Eg"
      }
    },
    {
      "cell_type": "code",
      "source": [
        "from sklearn.svm import SVR\n",
        "from sklearn.metrics import mean_squared_error\n",
        "import matplotlib.pyplot as plt\n"
      ],
      "metadata": {
        "id": "MD7NVR75aXbH"
      },
      "execution_count": null,
      "outputs": []
    },
    {
      "cell_type": "code",
      "source": [
        "sv_clf = SVR.SVR()\n",
        "sv_clf.fit(x_train, y_train)\n",
        "sv_clf.score(x_test, y_test)"
      ],
      "metadata": {
        "id": "KXnBtu4hPkpa",
        "colab": {
          "base_uri": "https://localhost:8080/",
          "height": 206
        },
        "outputId": "db5d747f-9f13-4cfc-ca35-70cda33ac258"
      },
      "execution_count": null,
      "outputs": [
        {
          "output_type": "error",
          "ename": "AttributeError",
          "evalue": "ignored",
          "traceback": [
            "\u001b[0;31m---------------------------------------------------------------------------\u001b[0m",
            "\u001b[0;31mAttributeError\u001b[0m                            Traceback (most recent call last)",
            "\u001b[0;32m<ipython-input-246-0f64cc331784>\u001b[0m in \u001b[0;36m<module>\u001b[0;34m()\u001b[0m\n\u001b[0;32m----> 1\u001b[0;31m \u001b[0msv_clf\u001b[0m \u001b[0;34m=\u001b[0m \u001b[0mSVR\u001b[0m\u001b[0;34m.\u001b[0m\u001b[0mSVR\u001b[0m\u001b[0;34m(\u001b[0m\u001b[0;34m)\u001b[0m\u001b[0;34m\u001b[0m\u001b[0;34m\u001b[0m\u001b[0m\n\u001b[0m\u001b[1;32m      2\u001b[0m \u001b[0msv_clf\u001b[0m\u001b[0;34m.\u001b[0m\u001b[0mfit\u001b[0m\u001b[0;34m(\u001b[0m\u001b[0mx_train\u001b[0m\u001b[0;34m,\u001b[0m \u001b[0my_train\u001b[0m\u001b[0;34m)\u001b[0m\u001b[0;34m\u001b[0m\u001b[0;34m\u001b[0m\u001b[0m\n\u001b[1;32m      3\u001b[0m \u001b[0msv_clf\u001b[0m\u001b[0;34m.\u001b[0m\u001b[0mscore\u001b[0m\u001b[0;34m(\u001b[0m\u001b[0mx_test\u001b[0m\u001b[0;34m,\u001b[0m \u001b[0my_test\u001b[0m\u001b[0;34m)\u001b[0m\u001b[0;34m\u001b[0m\u001b[0;34m\u001b[0m\u001b[0m\n",
            "\u001b[0;31mAttributeError\u001b[0m: type object 'SVR' has no attribute 'SVR'"
          ]
        }
      ]
    },
    {
      "cell_type": "code",
      "source": [
        ""
      ],
      "metadata": {
        "id": "-NQV3ff-6Y6V"
      },
      "execution_count": null,
      "outputs": []
    }
  ]
}